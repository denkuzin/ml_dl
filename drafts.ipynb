{
 "cells": [
  {
   "cell_type": "markdown",
   "metadata": {},
   "source": [
    "### load CIFAR dataset\n",
    "https://www.cs.toronto.edu/~kriz/cifar.html"
   ]
  },
  {
   "cell_type": "code",
   "execution_count": null,
   "metadata": {},
   "outputs": [],
   "source": [
    "dataset_path = \"/home/d.kuzin/datasets/cifar-10-batches-py\"\n",
    "\n",
    "def unpickle(file: str) -> dict:\n",
    "    with open(file, 'rb') as f:\n",
    "        dictionary = pickle.load(f, encoding='latin1')\n",
    "    return dictionary\n",
    "\n",
    "train_files = sorted(glob.glob(f'{dataset_path}/data_batch*'))\n",
    "test_files = sorted(glob.glob(f'{dataset_path}/test_batch*'))\n",
    "\n",
    "batch = unpickle(train_files[0])\n",
    "\n",
    "print(batch.keys())\n",
    "\n",
    "features = batch['data'].reshape((len(batch['data']), 3, 32, 32)).transpose(0, 2, 3, 1)\n",
    "labels = batch['labels']\n",
    "\n",
    "print(features[0].shape)"
   ]
  },
  {
   "cell_type": "code",
   "execution_count": null,
   "metadata": {},
   "outputs": [],
   "source": []
  },
  {
   "cell_type": "markdown",
   "metadata": {},
   "source": [
    "### load ImageNet"
   ]
  },
  {
   "cell_type": "code",
   "execution_count": null,
   "metadata": {},
   "outputs": [],
   "source": [
    "dataset_path = \"/home/d.kuzin/datasets/imagenet\"\n",
    "os.makedirs(dataset_path, exist_ok=True)\n",
    "\n",
    "category_list_url = 'http://image-net.org/archive/words.txt'\n",
    "\n",
    "\n",
    "def get_categories(all_list_file, category_list_file):\n",
    "    all_list = pd.read_csv(all_list_file, header=None, delimiter='\\t')\n",
    "    all_list.columns = ['id', 'name']\n",
    "\n",
    "    category_list = pd.read_csv(\n",
    "        category_list_file, header=None, delimiter='\\t')\n",
    "    category_list.columns = ['name']\n",
    "    category_list = category_list.drop_duplicates()\n",
    "\n",
    "    categories = pd.merge(all_list, category_list, on='name')\n",
    "\n",
    "    label = pd.DataFrame(categories['name'].unique())\n",
    "    label.columns = ['name']\n",
    "    label['label'] = label.index\n",
    "\n",
    "    return pd.merge(categories, label, on='name')\n",
    "\n",
    "def download_file(url, output_path):\n",
    "    try:\n",
    "        img_resp = requests.get(img_url, timeout = 1)\n",
    "    except ConnectionError:\n",
    "        logging.debug(f\"Connection Error for url {img_url}\")\n",
    "        return finish('failure')\n",
    "    except ReadTimeout:\n",
    "        logging.debug(f\"Read Timeout for url {img_url}\")\n",
    "        return finish('failure')\n",
    "    except TooManyRedirects:\n",
    "        logging.debug(f\"Too many redirects {img_url}\")\n",
    "        return finish('failure')\n",
    "    except MissingSchema:\n",
    "        return finish('failure')\n",
    "    except InvalidURL:\n",
    "        return finish('failure')"
   ]
  },
  {
   "cell_type": "markdown",
   "metadata": {},
   "source": [
    "### load Caltech 256 dataset\n",
    "\n",
    "http://www.vision.caltech.edu/Image_Datasets/Caltech256/"
   ]
  },
  {
   "cell_type": "code",
   "execution_count": 1,
   "metadata": {},
   "outputs": [],
   "source": [
    "dataset_path = '/home/d.kuzin/datasets/caltech_256/256_ObjectCategories'"
   ]
  },
  {
   "cell_type": "code",
   "execution_count": null,
   "metadata": {},
   "outputs": [],
   "source": []
  }
 ],
 "metadata": {
  "kernelspec": {
   "display_name": "Python 3",
   "language": "python",
   "name": "python3"
  },
  "language_info": {
   "codemirror_mode": {
    "name": "ipython",
    "version": 3
   },
   "file_extension": ".py",
   "mimetype": "text/x-python",
   "name": "python",
   "nbconvert_exporter": "python",
   "pygments_lexer": "ipython3",
   "version": "3.6.9"
  }
 },
 "nbformat": 4,
 "nbformat_minor": 4
}
